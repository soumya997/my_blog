{
 "cells": [
  {
   "cell_type": "markdown",
   "metadata": {},
   "source": [
    "\n",
    "In physics, the mass-energy equivalence is stated \n",
    "by the equation $E=mc^2$, discovered in 1905 by Albert Einstein."
   ]
  },
  {
   "cell_type": "markdown",
   "metadata": {},
   "source": []
  },
  {
   "cell_type": "code",
   "execution_count": 3,
   "metadata": {},
   "outputs": [
    {
     "data": {
      "text/latex": [
       "The well known Pythagorean theorem \\(x^2 + y^2 = z^2\\) was \n",
       "proved to be invalid for other exponents. \n",
       "Meaning the next equation has no integer solutions:\n",
       "\n",
       "\\[ x^n + y^n = z^n \\]\n"
      ],
      "text/plain": [
       "<IPython.core.display.Latex object>"
      ]
     },
     "metadata": {},
     "output_type": "display_data"
    }
   ],
   "source": [
    "%%latex\n",
    "The well known Pythagorean theorem \\(x^2 + y^2 = z^2\\) was \n",
    "proved to be invalid for other exponents. \n",
    "Meaning the next equation has no integer solutions:\n",
    "\n",
    "\\[ x^n + y^n = z^n \\]"
   ]
  },
  {
   "cell_type": "code",
   "execution_count": null,
   "metadata": {},
   "outputs": [],
   "source": []
  }
 ],
 "metadata": {
  "kernelspec": {
   "display_name": "Python 3",
   "language": "python",
   "name": "python3"
  },
  "language_info": {
   "codemirror_mode": {
    "name": "ipython",
    "version": 3
   },
   "file_extension": ".py",
   "mimetype": "text/x-python",
   "name": "python",
   "nbconvert_exporter": "python",
   "pygments_lexer": "ipython3",
   "version": "3.7.3"
  }
 },
 "nbformat": 4,
 "nbformat_minor": 2
}
